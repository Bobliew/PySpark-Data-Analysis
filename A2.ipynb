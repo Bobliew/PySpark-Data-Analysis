{
 "cells": [
  {
   "cell_type": "markdown",
   "metadata": {
    "colab_type": "text",
    "id": "5PD5Pz3u-6vb"
   },
   "source": [
    "# SIT742: Modern Data Science \n",
    "**(2020 Assessment Task 02: Exploration FIFA2019 Data)**\n",
    "\n",
    "---\n",
    "- Materials in this module include resources collected from various open-source online repositories.\n",
    "- You are free to use, change and distribute this package.\n",
    "\n",
    "Prepared by **SIT742 Teaching Team**\n",
    "\n",
    "\n",
    "---\n",
    "\n",
    "<div class=\"alert alert-block alert-info\">\n",
    "Enter your information in the following cell. Please make sure you fill your Student ID and Name correctly.  \n",
    "</div>\n",
    "\n",
    "**Student Group Information:** Please fill your information below\n",
    "\n",
    "- Names with Student IDs:  \n",
    "- Group ID:  \n",
    "- Emails:   \n",
    "\n",
    "---"
   ]
  },
  {
   "cell_type": "markdown",
   "metadata": {
    "colab_type": "text",
    "id": "2ljGko6N-6vf"
   },
   "source": [
    "## Overview\n",
    "\n",
    "Recently, [Kaggle](https://www.kaggle.com) (a data science community and competition platform) released one data set '[FIFA19](https://www.kaggle.com/karangadiya/fifa19)‘, which consists of 18K+ FIFA 19 player with around 90 attributes extracted from FIFA database. In this assessment task, we make it available as the data set:\n",
    "- [2020T2Data.csv](https://github.com/tulip-lab/sit742/raw/master/Assessment/2020/data/2020T2Data.csv): The data set for this assignment task.\n",
    "\n",
    "In this task, you will need to **use Spark packages**\n",
    "\n",
    "- **Part 1**: Exploratory Data Analysis\n",
    "\n",
    "- **Part 2**: Clustering Analysis, and identify the position profiles of each cluster\n",
    "\n",
    "- **Part 3**: Classification Analysis, and evaluate the performance of different algorithms using cross validation;\n",
    "\n",
    "\n",
    "You will be required to complete the coding to answer the questions with a neat and clean format, and your commenting and adherence to code standards will be considered when marking. Further information on Python standards, please visit https://www.python.org/dev/peps/pep-0008/ \n",
    "\n",
    "\n",
    "**Note**: You are not necessary to stick to the partial code provided, and you can write your own complete code to implement the required tasks. But you should provide sufficient comments.\n",
    "\n"
   ]
  },
  {
   "cell_type": "markdown",
   "metadata": {
    "colab_type": "text",
    "id": "G1vjEdvs-6vh"
   },
   "source": [
    "## Part 1 - What we could know about FIFA 2019 Players? \n",
    "\n",
    "### 1.0. Libraries and data files\n",
    "<a id=\"Load data\"></a>\n",
    "***\n",
    "\n",
    "Import the necessary Spark environment, and load the data set [2020T2Data.csv](https://github.com/tulip-lab/sit742/raw/master/Assessment/2020/data/2020T2Data.csv).\n"
   ]
  },
  {
   "cell_type": "code",
   "execution_count": 10,
   "metadata": {
    "colab": {
     "base_uri": "https://localhost:8080/",
     "height": 35
    },
    "colab_type": "code",
    "id": "auVRAscVRVrI",
    "outputId": "326da471-9221-4361-c31a-bf1185894774"
   },
   "outputs": [],
   "source": [
    "# Link to Dataset\n",
    "\n",
    "#link_to_data = 'https://github.com/tulip-lab/sit742/raw/master/Assessment/2020/data/2020T2Data.csv'\n",
    "#DataSet = wget.download(link_to_data)"
   ]
  },
  {
   "cell_type": "code",
   "execution_count": 11,
   "metadata": {
    "colab": {},
    "colab_type": "code",
    "id": "3Gxm5nc6Rz-a"
   },
   "outputs": [
    {
     "name": "stdout",
     "output_type": "stream",
     "text": [
      "+-----+\n",
      "|hello|\n",
      "+-----+\n",
      "|spark|\n",
      "+-----+\n",
      "\n"
     ]
    }
   ],
   "source": [
    "# Importy necessary spark environment including spark sql:\n",
    "\n",
    "from IPython.core.interactiveshell import InteractiveShell\n",
    "InteractiveShell.ast_node_interactivity = \"all\"\n",
    "\n",
    "import findspark\n",
    "findspark.init()\n",
    "\n",
    "import pyspark # only run after findspark.init()\n",
    "from pyspark.sql import SparkSession\n",
    "from pyspark import SparkContext\n",
    "from pyspark.sql import SQLContext\n",
    "spark = SparkSession.builder.getOrCreate()\n",
    "\n",
    "df = spark.sql('''select 'spark' as hello ''')\n",
    "df.show()\n"
   ]
  },
  {
   "cell_type": "markdown",
   "metadata": {
    "colab_type": "text",
    "id": "dSPbqoEGR30v"
   },
   "source": [
    "### 1.1 Data Exploration\n",
    "\n",
    "*Remind: You must only use **PySpark** to complete the following data processing and model building. Otherwise, you lose all marks.*\n",
    "\n",
    "<a id=\"loading\"></a>\n",
    "***\n",
    "\n",
    "<div class=\"alert alert-block alert-info\">\n",
    "\n",
    "**Code**: \n",
    "    import the csv file as a Spark dataframe and name it as df\n",
    "\n",
    "</div>\n",
    "\n"
   ]
  },
  {
   "cell_type": "code",
   "execution_count": 12,
   "metadata": {
    "colab": {
     "base_uri": "https://localhost:8080/",
     "height": 1000
    },
    "colab_type": "code",
    "id": "uuGY6lgWR7B3",
    "outputId": "a763b7a8-3f26-4292-c6ad-232162aa0997"
   },
   "outputs": [
    {
     "data": {
      "text/plain": [
       "[Row(ID='158023', Name='L. Messi', Age='31', Photo='https://cdn.sofifa.org/players/4/19/158023.png', Nationality='Argentina', Flag='https://cdn.sofifa.org/flags/52.png', Overall='94', Potential='94', Club='FC Barcelona', Club Logo='https://cdn.sofifa.org/teams/2/light/241.png', value(M)='110.5', wage(K)='565', Special='2202', Preferred Foot='Left', International Reputation='5', Weak Foot='4', Skill Moves='4', Work Rate='Medium/ Medium', Body Type='Messi', Real Face='Yes', Position='RF', Jersey Number='10', Joined='Jul 1, 2004', Loaned From=None, Contract Valid Until='2021', Height='5.70', Height(CM)='173.736', Weight='159.00', Weight(KG)='72.121128', Crossing='84', Finishing='95', HeadingAccuracy='70', ShortPassing='90', Volleys='86', Dribbling='97', Curve='93', FKAccuracy='94', LongPassing='87', BallControl='96', Acceleration='91', SprintSpeed='86', Agility='91', Reactions='95', Balance='95', ShotPower='85', Jumping='68', Stamina='72', Strength='59', LongShots='94', Aggression='48', Interceptions='22', Positioning='94', Vision='94', Penalties='75', Composure='96', Marking='33', StandingTackle='28', SlidingTackle='26', GKDiving='6', GKHandling='11', GKKicking='15', GKPositioning='14', GKReflexes='8', Release Clause(M)='226.5')]"
      ]
     },
     "execution_count": 12,
     "metadata": {},
     "output_type": "execute_result"
    },
    {
     "data": {
      "text/plain": [
       "['ID',\n",
       " 'Name',\n",
       " 'Age',\n",
       " 'Photo',\n",
       " 'Nationality',\n",
       " 'Flag',\n",
       " 'Overall',\n",
       " 'Potential',\n",
       " 'Club',\n",
       " 'Club Logo',\n",
       " 'value(M)',\n",
       " 'wage(K)',\n",
       " 'Special',\n",
       " 'Preferred Foot',\n",
       " 'International Reputation',\n",
       " 'Weak Foot',\n",
       " 'Skill Moves',\n",
       " 'Work Rate',\n",
       " 'Body Type',\n",
       " 'Real Face',\n",
       " 'Position',\n",
       " 'Jersey Number',\n",
       " 'Joined',\n",
       " 'Loaned From',\n",
       " 'Contract Valid Until',\n",
       " 'Height',\n",
       " 'Height(CM)',\n",
       " 'Weight',\n",
       " 'Weight(KG)',\n",
       " 'Crossing',\n",
       " 'Finishing',\n",
       " 'HeadingAccuracy',\n",
       " 'ShortPassing',\n",
       " 'Volleys',\n",
       " 'Dribbling',\n",
       " 'Curve',\n",
       " 'FKAccuracy',\n",
       " 'LongPassing',\n",
       " 'BallControl',\n",
       " 'Acceleration',\n",
       " 'SprintSpeed',\n",
       " 'Agility',\n",
       " 'Reactions',\n",
       " 'Balance',\n",
       " 'ShotPower',\n",
       " 'Jumping',\n",
       " 'Stamina',\n",
       " 'Strength',\n",
       " 'LongShots',\n",
       " 'Aggression',\n",
       " 'Interceptions',\n",
       " 'Positioning',\n",
       " 'Vision',\n",
       " 'Penalties',\n",
       " 'Composure',\n",
       " 'Marking',\n",
       " 'StandingTackle',\n",
       " 'SlidingTackle',\n",
       " 'GKDiving',\n",
       " 'GKHandling',\n",
       " 'GKKicking',\n",
       " 'GKPositioning',\n",
       " 'GKReflexes',\n",
       " 'Release Clause(M)']"
      ]
     },
     "execution_count": 12,
     "metadata": {},
     "output_type": "execute_result"
    }
   ],
   "source": [
    "# Import the '2020T2Data.csv' as a Spark dataframe and name it as df\n",
    "\n",
    "spark = SparkSession.builder.appName('SIT742T2').getOrCreate()\n",
    "\n",
    "df = spark.read.csv('2020T2Data.csv', sep = ',', header = True, ignoreLeadingWhiteSpace= True, ignoreTrailingWhiteSpace = True)\n",
    "#df = spark.read.option(\"header\", \"true\").csv(\"2020T2Data.csv\")\n",
    "\n",
    "df.head(1)\n",
    "df.columns"
   ]
  },
  {
   "cell_type": "markdown",
   "metadata": {
    "colab_type": "text",
    "id": "2sXsdZ2wbrAg"
   },
   "source": [
    "****\n",
    "\n",
    "\n",
    "<div class=\"alert alert-block alert-info\">\n",
    "\n",
    "**Code**: \n",
    "    Check statistics (min, mean and max) for features on Age, Overall. Then find out the Avg Overall on Position, Avg Overall on Nationality (Sort by avg Overall on Nationality)\n",
    "\n",
    "<div class=\"alert alert-block alert-warning\">\n",
    "    \n",
    "**Report**: \n",
    "    **1.1.A** Please answer questions with proper section title  '1.1.A':     \n",
    "    <ol>\n",
    "        <li> Which are the (min, mean and max) for Age </li>\n",
    "        <li> Which are the (min, mean and max) for Overall </li>\n",
    "        <li> Which position the talented player (based on Avg Overall) are playing? </li>\n",
    "        <li> Which are the top 3 countres that most likely have the genies player (based on sort of Avg Overall) and </li>\n",
    "    </ol>\n",
    "    \n",
    "</div>\n",
    "\n",
    "</div>"
   ]
  },
  {
   "cell_type": "code",
   "execution_count": 16,
   "metadata": {
    "colab": {
     "base_uri": "https://localhost:8080/",
     "height": 121
    },
    "colab_type": "code",
    "id": "mdWVric-aY-h",
    "outputId": "66183b03-6ebf-4c39-b456-46228d8e6d95"
   },
   "outputs": [],
   "source": [
    "from pyspark.sql import functions as F\n",
    "\n",
    "#Creating a SqlContext on Spark Session Variable\n",
    "sqlContext = SQLContext(spark)\n",
    "\n",
    "#Creating a template for Spark SQL for the DataFrame df:\n",
    "\n",
    "df.registerTempTable(\"df\")\n",
    "\n",
    "#sdf2 = sqlContext.read.csv('2020T2Data.csv', sep = ',', inferSchema = True, header = True, ignoreLeadingWhiteSpace= True, ignoreTrailingWhiteSpace = True)"
   ]
  },
  {
   "cell_type": "code",
   "execution_count": 62,
   "metadata": {},
   "outputs": [
    {
     "name": "stdout",
     "output_type": "stream",
     "text": [
      "+--------+------------------------+--------+\n",
      "|min(Age)|avg(CAST(Age AS DOUBLE))|max(Age)|\n",
      "+--------+------------------------+--------+\n",
      "|      16|      25.122205745043114|      45|\n",
      "+--------+------------------------+--------+\n",
      "\n"
     ]
    }
   ],
   "source": [
    "# Statistics on Age:\n",
    "\n",
    "age_results = sqlContext.sql(\"SELECT min(Age), mean(Age), max(Age) from df\")\n",
    "age_results.show()"
   ]
  },
  {
   "cell_type": "code",
   "execution_count": 63,
   "metadata": {
    "colab": {
     "base_uri": "https://localhost:8080/",
     "height": 121
    },
    "colab_type": "code",
    "id": "-KMLB3sAfkpK",
    "outputId": "b0599655-19b9-43ad-ff49-894da099b42e"
   },
   "outputs": [
    {
     "name": "stdout",
     "output_type": "stream",
     "text": [
      "+------------+----------------------------+------------+\n",
      "|min(Overall)|avg(CAST(Overall AS DOUBLE))|max(Overall)|\n",
      "+------------+----------------------------+------------+\n",
      "|          46|           66.23869940132916|          94|\n",
      "+------------+----------------------------+------------+\n",
      "\n"
     ]
    }
   ],
   "source": [
    "# Statistics on Overall:\n",
    "\n",
    "overall_results = sqlContext.sql(\"SELECT min(Overall), mean(Overall), max(Overall) from df\")\n",
    "overall_results.show()"
   ]
  },
  {
   "cell_type": "code",
   "execution_count": 64,
   "metadata": {
    "colab": {
     "base_uri": "https://localhost:8080/",
     "height": 589
    },
    "colab_type": "code",
    "id": "S4SMaNc4gX3E",
    "outputId": "0fefece7-1be9-4ab1-b274-dc575929f0d5"
   },
   "outputs": [
    {
     "name": "stdout",
     "output_type": "stream",
     "text": [
      "+--------+----------------------------+\n",
      "|position|avg(CAST(Overall AS DOUBLE))|\n",
      "+--------+----------------------------+\n",
      "|      RF|                       73.25|\n",
      "|     LWB|           66.51282051282051|\n",
      "|     LCM|           69.27088607594936|\n",
      "|      LM|           66.69223744292238|\n",
      "|     RDM|           69.75403225806451|\n",
      "|      LF|           73.86666666666666|\n",
      "|    null|           61.63333333333333|\n",
      "|     CAM|           66.90396659707724|\n",
      "|     RAM|           72.28571428571429|\n",
      "|      LB|           65.85476550680787|\n",
      "|      LW|           66.61679790026247|\n",
      "|     RCM|             69.076726342711|\n",
      "|      GK|           64.60345679012346|\n",
      "|      RB|           66.05886909372579|\n",
      "|      RS|           69.52216748768473|\n",
      "|     LCB|           69.24074074074075|\n",
      "|      CM|          63.729555236728835|\n",
      "|      RW|           66.92972972972973|\n",
      "|     RCB|           69.28398791540785|\n",
      "|     CDM|            66.3132911392405|\n",
      "+--------+----------------------------+\n",
      "only showing top 20 rows\n",
      "\n"
     ]
    }
   ],
   "source": [
    "# Code for which Avg Overall on Position?\n",
    "\n",
    "position_results = sqlContext.sql(\"SELECT position, avg(Overall) from df group by position\")\n",
    "position_results.show()"
   ]
  },
  {
   "cell_type": "code",
   "execution_count": 65,
   "metadata": {
    "colab": {
     "base_uri": "https://localhost:8080/",
     "height": 173
    },
    "colab_type": "code",
    "id": "B6PYyigEjZwI",
    "outputId": "f09092b8-9b0e-4931-e9a1-94ea2fa05830"
   },
   "outputs": [
    {
     "name": "stdout",
     "output_type": "stream",
     "text": [
      "+--------------------+----------------------------+\n",
      "|         Nationality|avg(CAST(Overall AS DOUBLE))|\n",
      "+--------------------+----------------------------+\n",
      "|United Arab Emirates|                        77.0|\n",
      "|Central African Rep.|           73.33333333333333|\n",
      "|              Israel|           72.14285714285714|\n",
      "+--------------------+----------------------------+\n",
      "\n"
     ]
    }
   ],
   "source": [
    "#Your Code to output top 3 countries most likely having good players\n",
    "# Code for which Avg Overall on Country sorted by descending Avg Overall (displaying only top 3 countries)?\n",
    "\n",
    "position_results = sqlContext.sql(\"SELECT Nationality, avg(Overall) from df group by 1 order by avg(Overall) desc limit 3\")\n",
    "position_results.show()"
   ]
  },
  {
   "cell_type": "markdown",
   "metadata": {
    "colab_type": "text",
    "id": "kT8OESOsmQfv"
   },
   "source": [
    "****\n",
    "\n",
    "<div class=\"alert alert-block alert-info\">\n",
    "\n",
    "**Code**: \n",
    "    You are required to find out the Avg Potentials on Country by Positions, and show the top 10 by ordering your results on Country with alphabet? (Hint: you may need to use pivot)\n",
    "\n",
    "<div class=\"alert alert-block alert-warning\">\n",
    "    \n",
    "**Report**: \n",
    "    **1.1.B** Please answer questions with proper section title  '1.1.B':     \n",
    "    <ol>\n",
    "        <li> Show the results on Avg Potentials on Country by Position with ordering the results on country by alphabet</li>\n",
    "        <li> Which position the young talented player (by Avg Potential) are playing in Australia? </li>\n",
    "    </ol>\n",
    "    \n",
    "</div>\n",
    "\n",
    "</div>"
   ]
  },
  {
   "cell_type": "code",
   "execution_count": 66,
   "metadata": {
    "colab": {
     "base_uri": "https://localhost:8080/",
     "height": 419
    },
    "colab_type": "code",
    "id": "R1RsTYgImPFD",
    "outputId": "5530a8c4-9398-4a8e-976e-3b8b8bc2d3bb"
   },
   "outputs": [
    {
     "name": "stdout",
     "output_type": "stream",
     "text": [
      "+--------------------+--------+-----------------+\n",
      "|         Nationality|Position|   avg(Potential)|\n",
      "+--------------------+--------+-----------------+\n",
      "|              Poland|      CF|             88.0|\n",
      "|            Slovakia|     LCM|             87.0|\n",
      "|           Argentina|      RF|             87.0|\n",
      "|             Belgium|      LF|             86.0|\n",
      "|              Serbia|      LS|             86.0|\n",
      "|             Morocco|     RAM|             86.0|\n",
      "|              Russia|     LDM|             86.0|\n",
      "|               Wales|     LDM|             86.0|\n",
      "|             Croatia|     LCM|85.33333333333333|\n",
      "|Central African Rep.|      CM|             85.0|\n",
      "+--------------------+--------+-----------------+\n",
      "only showing top 10 rows\n",
      "\n"
     ]
    }
   ],
   "source": [
    "#Your code to identify top 10 countryes by alphabet\n",
    "\n",
    "avg_potentials_country_position  = df.groupby(['Nationality','Position']).agg({'Potential':\"AVG\"}).sort(['AVG(Potential)'], ascending = False)\n",
    "avg_potentials_country_position.show(10)"
   ]
  },
  {
   "cell_type": "code",
   "execution_count": 61,
   "metadata": {},
   "outputs": [
    {
     "name": "stdout",
     "output_type": "stream",
     "text": [
      "+-----------+--------+--------------+\n",
      "|Nationality|Position|avg(Potential)|\n",
      "+-----------+--------+--------------+\n",
      "|  Australia|     RDM|          77.0|\n",
      "+-----------+--------+--------------+\n",
      "only showing top 1 row\n",
      "\n"
     ]
    }
   ],
   "source": [
    "#Your Code to identify which position has the most talend young players in Australia\n",
    "# Filtering the spark dataframe: avg_potentials_country_position for Nationality = Australia and \n",
    "#sorted in descending order of avg(Potential) and displying the position with the top Avg(Potential)\n",
    "\n",
    "avg_potentials_country_position.filter(avg_potentials_country_position['Nationality'] == 'Australia').sort(['avg(Potential)'], ascending = False).show(1)\n"
   ]
  },
  {
   "cell_type": "markdown",
   "metadata": {
    "colab_type": "text",
    "id": "lGWtR6Ast7o8"
   },
   "source": [
    "Interesting, is there a age that the player is fully relased his potential? If there is, could you find out?\n",
    "\n",
    "****\n",
    "\n",
    "<div class=\"alert alert-block alert-info\">\n",
    "\n",
    "**Code**: \n",
    "    You are required to plot the finding visually by having Age as the x-axis and avg potential on age with avg overall on age at y-axis. (Hint: you may need to select and aggreate on data first and then turn it into pandas for plotting)\n",
    "\n",
    "<div class=\"alert alert-block alert-warning\">\n",
    "    \n",
    "**Report**: \n",
    "    **1.1.C** Please include the following plot into your report with proper section title  '1.1.C':     \n",
    "    <ol>\n",
    "        <li> Plot the finding visually by having Age as the x-axis and avg potential on age with avg overall on age at y-axis. </li>\n",
    "        <li> What you can find for the age at which the player is fully released his potential?\n",
    "    </ol>\n",
    "    \n",
    "</div>\n",
    "\n",
    "</div>"
   ]
  },
  {
   "cell_type": "code",
   "execution_count": 103,
   "metadata": {
    "colab": {
     "base_uri": "https://localhost:8080/",
     "height": 283
    },
    "colab_type": "code",
    "id": "mRvkk376u-dE",
    "outputId": "3b304ef2-02ed-4962-dec7-a01d7f89ad08"
   },
   "outputs": [
    {
     "name": "stdout",
     "output_type": "stream",
     "text": [
      "+---+-----------------+-----------------+\n",
      "|Age|     avg(Overall)|   avg(Potential)|\n",
      "+---+-----------------+-----------------+\n",
      "| 29| 69.2460896767466|69.35766423357664|\n",
      "| 42|             65.0|             65.0|\n",
      "| 30|69.69574700109051|69.70010905125409|\n",
      "| 34|69.53960396039604|69.53960396039604|\n",
      "| 28|69.21344232515895| 69.4441416893733|\n",
      "| 22|64.99402985074627|72.81940298507463|\n",
      "| 35|68.13265306122449|68.13265306122449|\n",
      "| 16|54.45238095238095|73.19047619047619|\n",
      "| 31|69.85007072135785|69.85007072135785|\n",
      "| 18|57.74180327868852|73.53005464480874|\n",
      "+---+-----------------+-----------------+\n",
      "only showing top 10 rows\n",
      "\n"
     ]
    },
    {
     "data": {
      "text/plain": [
       "pandas.core.frame.DataFrame"
      ]
     },
     "execution_count": 103,
     "metadata": {},
     "output_type": "execute_result"
    },
    {
     "data": {
      "text/plain": [
       "<Figure size 864x576 with 0 Axes>"
      ]
     },
     "execution_count": 103,
     "metadata": {},
     "output_type": "execute_result"
    },
    {
     "data": {
      "text/plain": [
       "Text(0.5, 1.0, 'Plot of Age and Avg(potential)')"
      ]
     },
     "execution_count": 103,
     "metadata": {},
     "output_type": "execute_result"
    },
    {
     "data": {
      "text/plain": [
       "<matplotlib.collections.PathCollection at 0x25bbf435e48>"
      ]
     },
     "execution_count": 103,
     "metadata": {},
     "output_type": "execute_result"
    },
    {
     "data": {
      "image/png": "[encoded data removed]",
      "text/plain": [
       "<Figure size 864x576 with 1 Axes>"
      ]
     },
     "metadata": {
      "needs_background": "light"
     },
     "output_type": "display_data"
    },
    {
     "data": {
      "text/plain": [
       "<Figure size 864x576 with 0 Axes>"
      ]
     },
     "execution_count": 103,
     "metadata": {},
     "output_type": "execute_result"
    },
    {
     "data": {
      "text/plain": [
       "Text(0.5, 1.0, 'Plot of Age and Avg(overall)')"
      ]
     },
     "execution_count": 103,
     "metadata": {},
     "output_type": "execute_result"
    },
    {
     "data": {
      "text/plain": [
       "<matplotlib.collections.PathCollection at 0x25bbf49e550>"
      ]
     },
     "execution_count": 103,
     "metadata": {},
     "output_type": "execute_result"
    },
    {
     "data": {
      "image/png": "[encoded data removed]",
      "text/plain": [
       "<Figure size 864x576 with 1 Axes>"
      ]
     },
     "metadata": {
      "needs_background": "light"
     },
     "output_type": "display_data"
    }
   ],
   "source": [
    "import matplotlib.pyplot as plt\n",
    "import numpy as np\n",
    "import pandas as pd\n",
    "import seaborn as sns\n",
    "\n",
    "# Finding using plots : the age at which the player is fully released his potential\n",
    "\n",
    "avgs_for_age  = df.groupby(['Age']).agg({'Potential':\"AVG\", 'Overall':\"AVG\"})\n",
    "avgs_for_age.show(10)\n",
    "\n",
    "pandas_avg = avgs_for_age.toPandas()\n",
    "\n",
    "type(pandas_avg)\n",
    "\n",
    "\n",
    "plt.figure(figsize=(12,8))\n",
    "plt.title(\"Plot of Age and Avg(potential)\")\n",
    "plt.scatter(pd.to_numeric(pandas_avg['Age']), pandas_avg['avg(Potential)'])\n",
    "plt.show()\n",
    "\n",
    "\n",
    "plt.figure(figsize=(12,8))\n",
    "plt.title(\"Plot of Age and Avg(overall)\")\n",
    "plt.scatter(pd.to_numeric(pandas_avg['Age']), pandas_avg['avg(Overall)'])\n",
    "plt.show()"
   ]
  },
  {
   "cell_type": "code",
   "execution_count": 96,
   "metadata": {},
   "outputs": [],
   "source": [
    "#pd.cut(pd.to_numeric(pandas_avg['Age']),5)"
   ]
  },
  {
   "cell_type": "code",
   "execution_count": 101,
   "metadata": {},
   "outputs": [
    {
     "data": {
      "text/plain": [
       "<Figure size 864x576 with 0 Axes>"
      ]
     },
     "execution_count": 101,
     "metadata": {},
     "output_type": "execute_result"
    },
    {
     "data": {
      "text/plain": [
       "Text(0.5, 1.0, 'Plot of  Avg(potential) and Avg(overall) with Age As colour')"
      ]
     },
     "execution_count": 101,
     "metadata": {},
     "output_type": "execute_result"
    },
    {
     "data": {
      "text/plain": [
       "<matplotlib.axes._subplots.AxesSubplot at 0x25bbe944240>"
      ]
     },
     "execution_count": 101,
     "metadata": {},
     "output_type": "execute_result"
    },
    {
     "data": {
      "image/png": "[encoded data removed]",
      "text/plain": [
       "<Figure size 864x576 with 1 Axes>"
      ]
     },
     "metadata": {
      "needs_background": "light"
     },
     "output_type": "display_data"
    }
   ],
   "source": [
    "#plt.title(\"Plot of Avg(Overall) and Avg(Potential with Age\") \n",
    "#plt.scatter(x = pandas_avg['avg(Potential)'],y =  pandas_avg['avg(Overall)'], c = pandas_avg['Age'] )\n",
    "#plt.show()\n",
    "\n",
    "plt.figure(figsize=(12,8))\n",
    "plt.title(\"Plot of  Avg(potential) and Avg(overall) with Age As colour\")\n",
    "sns.scatterplot(x = pandas_avg['avg(Potential)'],y =  pandas_avg['avg(Overall)'], hue = pandas_avg['Age'] )\n"
   ]
  },
  {
   "cell_type": "markdown",
   "metadata": {},
   "source": [
    "# From the above 3 plot we can clearly see that\n",
    "#1. At the Age 15-25 is when the player has highest Potential and Potential Starts to go down after that Age\n",
    "#2. Players Avg Overall start to rise after Age 20-30 and its max when player is in mid-30s \n",
    "#the Avg overall starting to decline around mid 30s in general\n",
    "\n",
    "#3. In the Plot of Avg(potential) on X, Avg(Overall) on Y with Age as Colour we can insightfully see \n",
    "#the above #1 and #2 Together. \n",
    "\n",
    "# and how younger age players have the highest potential that starts to decline gradually,\n",
    "#but at the higher age thier overall is mugh higher than younger players\n"
   ]
  },
  {
   "cell_type": "markdown",
   "metadata": {
    "colab_type": "text",
    "id": "gMqIOge42NI7"
   },
   "source": [
    "## Part 2 - Unsupervised Learning: Kmeans\n",
    "\n",
    "<a id=\"kmeans\"></a>\n",
    "***\n",
    "\n",
    "In this part, you are required to build a Kmeans clustering for explore the player segmentation. \n",
    "\n",
    "\n",
    "### 2.1 Data Preparation\n",
    "\n",
    "*Remind: You must only use **pyspark** to complete the following data processing and model building. Otherwise, you lose all marks.*"
   ]
  },
  {
   "cell_type": "code",
   "execution_count": null,
   "metadata": {},
   "outputs": [],
   "source": []
  },
  {
   "cell_type": "markdown",
   "metadata": {
    "colab_type": "text",
    "id": "eHi1rU4p-6wK"
   },
   "source": [
    "\n",
    "****\n",
    "\n",
    "<div class=\"alert alert-block alert-info\">\n",
    "\n",
    "**Code**: \n",
    "    You will need to remove the Goal Keepers (Position = 'GK') and only use the skillset attributes (Height(CM),\n",
    "Weight(KG),\n",
    "Crossing,\n",
    "Finishing,\n",
    "HeadingAccuracy,\n",
    "ShortPassing,\n",
    "Volleys,\n",
    "Dribbling,\n",
    "Curve,\n",
    "FKAccuracy,\n",
    "LongPassing,\n",
    "BallControl,\n",
    "Acceleration,\n",
    "SprintSpeed,\n",
    "Agility,\n",
    "Reactions,\n",
    "Balance,\n",
    "ShotPower,\n",
    "Jumping,\n",
    "Stamina,\n",
    "Strength,\n",
    "LongShots,\n",
    "Aggression,\n",
    "Interceptions,\n",
    "Positioning,\n",
    "Vision,\n",
    "Penalties,\n",
    "Composure,\n",
    "Marking,\n",
    "StandingTackle,\n",
    "SlidingTackle) \n",
    "\n",
    "</div>\n",
    "\n"
   ]
  },
  {
   "cell_type": "code",
   "execution_count": null,
   "metadata": {
    "colab": {
     "base_uri": "https://localhost:8080/",
     "height": 193
    },
    "colab_type": "code",
    "id": "X2LHjTMv3w_7",
    "outputId": "dfbaff84-66ff-47a2-8caa-ae70209a3b9b"
   },
   "outputs": [],
   "source": [
    "# Your code to select relevent features and filtering by leaving out the GK\n",
    "\n"
   ]
  },
  {
   "cell_type": "markdown",
   "metadata": {
    "colab_type": "text",
    "id": "kVLBzBId9iCk"
   },
   "source": [
    "To make the later stage easier, we define the position group by using the position feature.\n",
    "- DEF = [LB,LWB,RB,LCB,RCB,CB,RWB] ,\n",
    "- FWD = [RF,LF,LW,RS,RW,LS,CF,ST] ,\n",
    "- MID = [LCM,LM,RDM,CAM,RAM,RCM,CM,CDM,RM,LAM,LDM]\n",
    "\n",
    "****\n",
    "\n",
    "<div class=\"alert alert-block alert-info\">\n",
    "\n",
    "**Code**: \n",
    "    You are required to create a new column called Position_Group with only DEF/FWD/MID in the dataframe you created in previous question\n",
    "\n",
    "</div>\n",
    "\n",
    "</div>"
   ]
  },
  {
   "cell_type": "code",
   "execution_count": null,
   "metadata": {
    "colab": {},
    "colab_type": "code",
    "id": "X4N6edcq5kE_"
   },
   "outputs": [],
   "source": [
    "from pyspark.sql.functions import when,col\n",
    "\n",
    "# Your code to complete\n",
    "DEF= \n",
    "FWD=  \n",
    "MID=  \n",
    "\n",
    "# Your code here to create a new variable df_kmeans_new with a new column Position_Group, ..\n",
    "#\n",
    "\n"
   ]
  },
  {
   "cell_type": "markdown",
   "metadata": {
    "colab_type": "text",
    "id": "R-NyFp7IBtGZ"
   },
   "source": [
    "Now, we remove the Position_Group and Position to create the feature for Kmeans\n",
    "\n",
    "\n"
   ]
  },
  {
   "cell_type": "code",
   "execution_count": null,
   "metadata": {
    "colab": {
     "base_uri": "https://localhost:8080/",
     "height": 173
    },
    "colab_type": "code",
    "id": "2x_o_w54B-mN",
    "outputId": "60824b01-94c7-467a-bce9-7483bc2d1684"
   },
   "outputs": [],
   "source": [
    "from pyspark.ml.clustering import KMeans\n",
    "from pyspark.ml.feature import VectorAssembler\n",
    "\n",
    "FEATURES_COL = ['Height(CM)', 'Weight(KG)', \n",
    "                      'Crossing', 'Finishing', 'HeadingAccuracy', \n",
    "                      'ShortPassing', 'Volleys', 'Dribbling', 'Curve',\n",
    "                      'FKAccuracy', 'LongPassing', 'BallControl', \n",
    "                      'Acceleration', 'SprintSpeed', 'Agility', \n",
    "                      'Reactions', 'Balance', 'ShotPower', 'Jumping', \n",
    "                      'Stamina', 'Strength', 'LongShots', 'Aggression', \n",
    "                      'Interceptions', 'Positioning', 'Vision', 'Penalties', \n",
    "                      'Composure', 'Marking', 'StandingTackle', 'SlidingTackle']\n",
    "\n",
    "vecAssembler = VectorAssembler(inputCols=FEATURES_COL, outputCol=\"features\")\n",
    "df_kmeans_ = vecAssembler.transform(df_kmeans_new).select('ID','features')\n",
    "df_kmeans_.show(3)"
   ]
  },
  {
   "cell_type": "markdown",
   "metadata": {
    "colab_type": "text",
    "id": "UniVGeYIDa_k"
   },
   "source": [
    "Now in order to evaluate your Kmeans Model, please plot the elbow plot\n",
    "\n",
    "\n",
    "<div class=\"alert alert-block alert-info\">\n",
    "\n",
    "**Code**: \n",
    "    You are required to plot the elbow plot, with a varying K from 2 to 20.\n",
    "\n",
    "<div class=\"alert alert-block alert-warning\">\n",
    "    \n",
    "**Report**: \n",
    "    **2.2.A** In your report with proper section title  '2.2.A', Please include the elbow plot. \n",
    "\n",
    "  </div>\n",
    "\n",
    "</div>\n",
    "\n"
   ]
  },
  {
   "cell_type": "code",
   "execution_count": null,
   "metadata": {
    "colab": {},
    "colab_type": "code",
    "id": "UDia7JYyDLhg"
   },
   "outputs": [],
   "source": [
    "cost = np.zeros(20)\n",
    "\n",
    "for k in range(2,20):\n",
    "# Your code\n"
   ]
  },
  {
   "cell_type": "code",
   "execution_count": null,
   "metadata": {
    "colab": {
     "base_uri": "https://localhost:8080/",
     "height": 417
    },
    "colab_type": "code",
    "id": "Mr-bSnj5EA1l",
    "outputId": "05c8224d-a9e3-4307-8ada-083a3b406527"
   },
   "outputs": [],
   "source": [
    "fig, ax = plt.subplots(1,1, figsize =(8,6))\n",
    "ax.set_xlabel('k')\n",
    "ax.set_ylabel('cost')\n",
    "\n",
    "# Your Code\n"
   ]
  },
  {
   "cell_type": "markdown",
   "metadata": {
    "colab_type": "text",
    "id": "XupecQFHE5Za"
   },
   "source": [
    "\n",
    "### 2.2 K-Means\n",
    "\n",
    "Could you tell out the optimized K value? \n",
    "\n",
    "\n",
    "\n",
    "\n",
    "****\n",
    "\n",
    "<div class=\"alert alert-block alert-info\">\n",
    "\n",
    "**Code**: \n",
    "    You are required to choose a K value as 8 and then summarize each cluster with the count on Position_Group.\n",
    "\n",
    "<div class=\"alert alert-block alert-warning\">\n",
    "    \n",
    "**Report**: \n",
    "    **2.2.B** In your report with proper section title  '2.2.B', Please summarize the following:     \n",
    "    <ol>\n",
    "        <li> What you could find from those clusters (by cluster central point)? </li>\n",
    "        <li> Is there any Position_Group belonging to particular Cluster?</li>\n",
    "    </ol>\n",
    "\n",
    "  </div>\n",
    "\n",
    "</div>\n",
    "\n",
    "\n"
   ]
  },
  {
   "cell_type": "code",
   "execution_count": null,
   "metadata": {
    "colab": {
     "base_uri": "https://localhost:8080/",
     "height": 1000
    },
    "colab_type": "code",
    "id": "LxSOxcowE6vB",
    "outputId": "44a4069a-6669-47c7-eccd-775fd8eda1e5"
   },
   "outputs": [],
   "source": [
    "k = 8\n",
    "\n",
    "# Your code"
   ]
  },
  {
   "cell_type": "code",
   "execution_count": null,
   "metadata": {
    "colab": {
     "base_uri": "https://localhost:8080/",
     "height": 173
    },
    "colab_type": "code",
    "id": "AkWZ5-6oFlpp",
    "outputId": "3d4aa4bc-c9f2-4991-c2b6-a72b7b5afa48"
   },
   "outputs": [],
   "source": [
    "from pyspark.sql import SQLContext\n",
    "\n",
    "# Your code"
   ]
  },
  {
   "cell_type": "markdown",
   "metadata": {
    "colab_type": "text",
    "id": "IiHEevY6IOJz"
   },
   "source": [
    "## Part 3 - Supervised Learning: Classification on Position_Group\n",
    "\n",
    "<a id=\"classification\"></a>\n",
    "***\n",
    "\n",
    "In last part, you use the player's skillset values to segment the players into 8 clusters. Now we want to see whether we could accuratly predict the position_group of the player.\n",
    "\n",
    "*Remind: You must only use **PySpark** to complete the following data processing and model building. Otherwise, you lose all marks.*\n",
    "\n",
    "\n",
    "### 3.1 Data Preparation\n",
    "\n",
    "We remove the feature of position and use all other skillset features and the cluster prediction as the input for the model. Your target for classification is \"Position_Group\"."
   ]
  },
  {
   "cell_type": "code",
   "execution_count": null,
   "metadata": {
    "colab": {
     "base_uri": "https://localhost:8080/",
     "height": 173
    },
    "colab_type": "code",
    "id": "PwtsyrUsI8e_",
    "outputId": "bd4643ac-1267-437d-c79a-fc5c36ee1fb6"
   },
   "outputs": [],
   "source": [
    "FEATURES_COL_ = ['Height(CM)', 'Weight(KG)', \n",
    "                      'Crossing', 'Finishing', 'HeadingAccuracy', \n",
    "                      'ShortPassing', 'Volleys', 'Dribbling', 'Curve',\n",
    "                      'FKAccuracy', 'LongPassing', 'BallControl', \n",
    "                      'Acceleration', 'SprintSpeed', 'Agility', \n",
    "                      'Reactions', 'Balance', 'ShotPower', 'Jumping', \n",
    "                      'Stamina', 'Strength', 'LongShots', 'Aggression', \n",
    "                      'Interceptions', 'Positioning', 'Vision', 'Penalties', \n",
    "                      'Composure', 'Marking', 'StandingTackle', 'SlidingTackle','Cluster']\n",
    "\n",
    "\n",
    "vecAssembler_ = VectorAssembler(inputCols=FEATURES_COL_, outputCol=\"features\")\n",
    "df_class_ = vecAssembler_.transform(df_kmeans_pred_).select('features','Position_Group')\n",
    "df_class_.show(3)\n"
   ]
  },
  {
   "cell_type": "markdown",
   "metadata": {
    "colab_type": "text",
    "id": "AklN81TvMKJS"
   },
   "source": [
    "In many data science modeling work, feature scaling is very important.\n",
    "In here, we use standard scaling on the fetaures."
   ]
  },
  {
   "cell_type": "code",
   "execution_count": null,
   "metadata": {
    "colab": {
     "base_uri": "https://localhost:8080/",
     "height": 208
    },
    "colab_type": "code",
    "id": "pjQRAHOQMK6V",
    "outputId": "b8e61bd0-cacc-4385-9c57-a4e79aecb073"
   },
   "outputs": [],
   "source": [
    "from pyspark.ml.feature import StandardScaler\n",
    "\n",
    "standardscaler=StandardScaler().setInputCol(\"features\").setOutputCol(\"Scaled_features\")\n",
    "raw_data=standardscaler.fit(df_class_).transform(df_class_)\n",
    "raw_data.select(\"features\",\"Scaled_features\",'Position_Group').show(5)"
   ]
  },
  {
   "cell_type": "markdown",
   "metadata": {
    "colab_type": "text",
    "id": "DD6wgq2sgiGk"
   },
   "source": [
    "In Spark, you could not use string as Target data type, Please encode the Position_Group column by using following encoding: \n",
    "\n",
    "FWD = 0\n",
    "DEF = 1\n",
    "MID = 2\n",
    "\n",
    "*Hint: Data type after encoding should be numeric.*"
   ]
  },
  {
   "cell_type": "code",
   "execution_count": null,
   "metadata": {
    "colab": {},
    "colab_type": "code",
    "id": "OosmFX9iOc0Z"
   },
   "outputs": [],
   "source": [
    "raw_data_ = raw_data.withColumn('Target',when(col(\"Position_Group\") == \"DEF\", 1)\n",
    "      .when(col(\"Position_Group\")== \"FWD\", 0)\n",
    "      .otherwise(2))"
   ]
  },
  {
   "cell_type": "markdown",
   "metadata": {
    "colab_type": "text",
    "id": "NDfZARUNMW2M"
   },
   "source": [
    "### 3.2 Training Test Evaluation\n",
    "\n",
    "We remove the feature of position and use all other skillset features and the cluster prediction as the input for the model. The target for classification is \"Position_Group\".\n",
    "\n",
    "Now, we split your data into train/Test, and evaluate one model's performance."
   ]
  },
  {
   "cell_type": "code",
   "execution_count": null,
   "metadata": {
    "colab": {},
    "colab_type": "code",
    "id": "MmbanmwBMUQB"
   },
   "outputs": [],
   "source": [
    "train, test = raw_data_.randomSplit([0.7, 0.3], seed=12)"
   ]
  },
  {
   "cell_type": "code",
   "execution_count": null,
   "metadata": {
    "colab": {
     "base_uri": "https://localhost:8080/",
     "height": 295
    },
    "colab_type": "code",
    "id": "apoKm9igMi12",
    "outputId": "682f1dc8-611e-4174-f8e1-1620a80fac75"
   },
   "outputs": [],
   "source": [
    "from pyspark.ml.classification import LogisticRegression\n",
    "lr = LogisticRegression(labelCol=\"Target\", featuresCol=\"Scaled_features\",maxIter=10)\n",
    "model=lr.fit(train)\n",
    "\n",
    "predict_train=model.transform(train)\n",
    "predict_test=model.transform(test)\n",
    "predict_test.select(\"Target\",\"prediction\").show(10)"
   ]
  },
  {
   "cell_type": "markdown",
   "metadata": {
    "colab_type": "text",
    "id": "wZk-Z7CcP6Ng"
   },
   "source": [
    "\n",
    "****\n",
    "\n",
    "\n",
    "<div class=\"alert alert-block alert-info\">\n",
    "\n",
    "**Code**: \n",
    "    You are required to evaluate the model by using confusion matrix. Please also print out your model's Precision, Recall and F1 score.\n",
    "\n",
    "<div class=\"alert alert-block alert-warning\">\n",
    "    \n",
    "**Report**: \n",
    "    **3.3.A** In your report with proper section title  '3.3.A', Please summarize the following:     \n",
    "    <ol>\n",
    "        <li> The confusion matrix </li>\n",
    "        <li> The Precision, Recall and F1 score</li>\n",
    "    </ol>\n",
    "</div>\n",
    "\n",
    "</div>\n",
    "\n",
    "\n"
   ]
  },
  {
   "cell_type": "code",
   "execution_count": null,
   "metadata": {
    "colab": {},
    "colab_type": "code",
    "id": "yPho8CbGQCCm"
   },
   "outputs": [],
   "source": [
    "from sklearn.metrics import confusion_matrix\n",
    "\n",
    "\n",
    "# Your Code\n"
   ]
  },
  {
   "cell_type": "code",
   "execution_count": null,
   "metadata": {
    "colab": {
     "base_uri": "https://localhost:8080/",
     "height": 69
    },
    "colab_type": "code",
    "id": "abdY0SBNQlu2",
    "outputId": "99903736-44b0-4cf0-ba31-9fac1f1f80e4"
   },
   "outputs": [],
   "source": []
  },
  {
   "cell_type": "code",
   "execution_count": null,
   "metadata": {
    "colab": {
     "base_uri": "https://localhost:8080/",
     "height": 191
    },
    "colab_type": "code",
    "id": "d95nOilARR8H",
    "outputId": "78fc93eb-295c-4523-ec41-35787ce6d2b5"
   },
   "outputs": [],
   "source": [
    "from sklearn.metrics import classification_report\n",
    "\n",
    "# Your Code\n",
    "\n"
   ]
  },
  {
   "cell_type": "markdown",
   "metadata": {
    "colab_type": "text",
    "id": "4Iy-g_68Q8OV"
   },
   "source": [
    "### 3.3 K-fold Cross-Validation\n",
    "\n",
    "We surely missed something during the modeling work -- Hyperparameter tuning! We can use K-fold cross validation to find out the best hyperparameter set.\n",
    "\n",
    "****\n",
    "\n",
    "\n",
    "<div class=\"alert alert-block alert-info\">\n",
    "\n",
    "**Code**: \n",
    "    Please implement K-fold cross validation for three (any three) classification models.\n",
    "\n",
    "<div class=\"alert alert-block alert-warning\">\n",
    "    \n",
    "**Report**: \n",
    "    **3.3.B** In your report with proper section title  '3.3.B', Please summarize the following:     \n",
    "    <ol>\n",
    "        <li> Your code design and running results </li>\n",
    "        <li> Your findings on hyperparameters based on this cross-validation results</li>\n",
    "        <li> Any difficuties you had </li>\n",
    "        <li> Any other possible tasks we could do on this dataset </li>\n",
    "    </ol>\n",
    "<b>Remind: fail to list the reference will lead a penalty and possibly plagiarism</b>    \n",
    "</div>\n",
    "\n",
    "</div>\n",
    "\n"
   ]
  },
  {
   "cell_type": "code",
   "execution_count": null,
   "metadata": {
    "colab": {},
    "colab_type": "code",
    "id": "0yCvsy1-jO7x"
   },
   "outputs": [],
   "source": [
    "from pyspark.ml import Pipeline\n",
    "from pyspark.ml.classification import RandomForestClassifier\n",
    "from pyspark.ml.evaluation import MulticlassClassificationEvaluator\n",
    "from pyspark.ml.tuning import ParamGridBuilder, CrossValidator\n",
    "\n",
    "# Your code \n"
   ]
  },
  {
   "cell_type": "code",
   "execution_count": null,
   "metadata": {},
   "outputs": [],
   "source": [
    "# Your code"
   ]
  }
 ],
 "metadata": {
  "colab": {
   "collapsed_sections": [],
   "name": "2020SIT742Task2Sol.ipynb",
   "provenance": [],
   "toc_visible": true
  },
  "kernelspec": {
   "display_name": "Python 3",
   "language": "python",
   "name": "python3"
  },
  "language_info": {
   "codemirror_mode": {
    "name": "ipython",
    "version": 3
   },
   "file_extension": ".py",
   "mimetype": "text/x-python",
   "name": "python",
   "nbconvert_exporter": "python",
   "pygments_lexer": "ipython3",
   "version": "3.6.5"
  }
 },
 "nbformat": 4,
 "nbformat_minor": 4
}
